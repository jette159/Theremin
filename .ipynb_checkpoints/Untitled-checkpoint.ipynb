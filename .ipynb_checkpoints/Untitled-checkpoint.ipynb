{
 "cells": [
  {
   "cell_type": "code",
   "execution_count": null,
   "metadata": {},
   "outputs": [],
   "source": [
    "#Bibliotheken einbinden\n",
    "import RPi.GPIO as GPIO\n",
    "import time\n",
    " \n",
    "#GPIO Modus (BOARD / BCM)\n",
    "GPIO.setmode(GPIO.BOARD)\n",
    " \n",
    "#GPIO Pins zuweisen\n",
    "GPIO_TRIGGER = 11\n",
    "GPIO_ECHO = 13\n",
    " \n",
    "#Richtung der GPIO-Pins festlegen (IN / OUT)\n",
    "GPIO.setup(GPIO_TRIGGER, GPIO.OUT)\n",
    "GPIO.setup(GPIO_ECHO, GPIO.IN)\n",
    " \n",
    "def distanz():\n",
    "    # setze Trigger auf HIGH\n",
    "    GPIO.output(GPIO_TRIGGER, True)\n",
    " \n",
    "    # setze Trigger nach 0.01ms aus LOW\n",
    "    time.sleep(0.00001)\n",
    "    GPIO.output(GPIO_TRIGGER, False)\n",
    " \n",
    "    StartZeit = time.time()\n",
    "    StopZeit = time.time()\n",
    " \n",
    "    # speichere Startzeit\n",
    "    while GPIO.input(GPIO_ECHO) == 0:\n",
    "        StartZeit = time.time()\n",
    " \n",
    "    # speichere Ankunftszeit\n",
    "    while GPIO.input(GPIO_ECHO) == 1:\n",
    "        StopZeit = time.time()\n",
    " \n",
    "    # Zeit Differenz zwischen Start und Ankunft\n",
    "    TimeElapsed = StopZeit - StartZeit\n",
    "    # mit der Schallgeschwindigkeit (34300 cm/s) multiplizieren\n",
    "    # und durch 2 teilen, da hin und zurueck\n",
    "    distanz = (TimeElapsed * 34300) / 2\n",
    " \n",
    "    return distanz\n",
    " \n",
    "if __name__ == '__main__':\n",
    "    try:\n",
    "        while True:\n",
    "            abstand = distanz()\n",
    "            print (\"Gemessene Entfernung = %.1f cm\" % abstand)\n",
    "            time.sleep(1)\n",
    " \n",
    "        # Beim Abbruch durch STRG+C resetten\n",
    "    except KeyboardInterrupt:\n",
    "        print(\"Messung vom User gestoppt\")\n",
    "        GPIO.cleanup()"
   ]
  },
  {
   "cell_type": "code",
   "execution_count": null,
   "metadata": {},
   "outputs": [],
   "source": []
  },
  {
   "cell_type": "code",
   "execution_count": null,
   "metadata": {},
   "outputs": [],
   "source": []
  }
 ],
 "metadata": {
  "kernelspec": {
   "display_name": "Python 3",
   "language": "python",
   "name": "python3"
  },
  "language_info": {
   "codemirror_mode": {
    "name": "ipython",
    "version": 3
   },
   "file_extension": ".py",
   "mimetype": "text/x-python",
   "name": "python",
   "nbconvert_exporter": "python",
   "pygments_lexer": "ipython3",
   "version": "3.5.3"
  }
 },
 "nbformat": 4,
 "nbformat_minor": 2
}
